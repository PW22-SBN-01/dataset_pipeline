{
 "cells": [
  {
   "cell_type": "markdown",
   "id": "aca4a704",
   "metadata": {},
   "source": [
    "# Driven Path Rendering\n",
    "\n",
    "For a given frame at some time t, using GPS and IMU data from subsequent frames render the path that the vehicle is going to drive through on that frame.\n",
    "\n",
    "Refrence Video: [AMZ Driverless](https://www.youtube.com/watch?v=aCDPwZZm9C4&ab_channel=AMZFormulaStudent)\n"
   ]
  },
  {
   "cell_type": "code",
   "execution_count": 1,
   "id": "07df21c4",
   "metadata": {},
   "outputs": [
    {
     "name": "stdout",
     "output_type": "stream",
     "text": [
      "/mnt/HDD/home/aditya/DatasetPipeline/dataset\n"
     ]
    }
   ],
   "source": [
    "from matplotlib import pyplot as plt \n",
    "import binascii\n",
    "import cv2\n",
    "import os\n",
    "import sys\n",
    "from pathlib import Path\n",
    "\n",
    "#PROJECT_ROOT = str(Path(os.getcwd()).parent.absolute())\n",
    "PROJECT_ROOT = os.getcwd()\n",
    "\n",
    "#sys.path.append(PROJECT_ROOT)\n",
    "\n",
    "from dataset_helper import dataset_iterators"
   ]
  },
  {
   "cell_type": "code",
   "execution_count": 3,
   "id": "59379d8e",
   "metadata": {},
   "outputs": [
    {
     "name": "stdout",
     "output_type": "stream",
     "text": [
      "Init path: /mnt/HDD/home/aditya/DatasetPipeline/dataset/panda_logs/PANDA_2022-05-31_10:25:56.624274.csv\n"
     ]
    },
    {
     "data": {
      "text/plain": [
       "----------------------------------------------------\n",
       "PandaDatasetIterator('/mnt/HDD/home/aditya/DatasetPipeline/dataset/panda_logs/PANDA_2022-05-31_10:25:56.624274.csv')\n",
       "----------------------------------------------------\n",
       "self.fps:        \t386.07107569895743\n",
       "self.frame_count:\t343230\n",
       "self.start_time_csv:\t2022-05-31 10:25:56.630635\n",
       "self.end_time_csv:\t2022-05-31 10:40:45.663825\n",
       "self.duration:    \t0:14:49.033190\n",
       "----------------------------------------------------"
      ]
     },
     "execution_count": 3,
     "metadata": {},
     "output_type": "execute_result"
    }
   ],
   "source": [
    "panda_path = os.path.join(PROJECT_ROOT, \"dataset/panda_logs/PANDA_2022-05-31_10:25:56.624274.csv\")\n",
    "panda_iter = dataset_iterators.PandaDatasetIterator(panda_path)\n",
    "panda_iter"
   ]
  },
  {
   "cell_type": "code",
   "execution_count": null,
   "id": "ffd9ecea",
   "metadata": {},
   "outputs": [],
   "source": [
    "frame_id = panda_iter.frame_count // 2\n",
    "panda_iter[frame_id]"
   ]
  },
  {
   "cell_type": "code",
   "execution_count": null,
   "id": "1ffc3f14",
   "metadata": {},
   "outputs": [],
   "source": []
  }
 ],
 "metadata": {
  "kernelspec": {
   "display_name": "Python 3 (ipykernel)",
   "language": "python",
   "name": "python3"
  },
  "language_info": {
   "codemirror_mode": {
    "name": "ipython",
    "version": 3
   },
   "file_extension": ".py",
   "mimetype": "text/x-python",
   "name": "python",
   "nbconvert_exporter": "python",
   "pygments_lexer": "ipython3",
   "version": "3.9.5"
  }
 },
 "nbformat": 4,
 "nbformat_minor": 5
}
