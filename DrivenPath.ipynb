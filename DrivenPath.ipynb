{
 "cells": [
  {
   "cell_type": "markdown",
   "id": "aca4a704",
   "metadata": {},
   "source": [
	"# Driven Path Rendering\n",
	"\n",
	"For a given frame at some time t, using GPS and IMU data from subsequent frames render the path that the vehicle is going to drive through on that frame.\n",
	"\n",
	"Refrence Video: [AMZ Driverless](https://www.youtube.com/watch?v=aCDPwZZm9C4&ab_channel=AMZFormulaStudent)\n"
   ]
  },
  {
   "cell_type": "code",
   "execution_count": 1,
   "id": "07df21c4",
   "metadata": {},
   "outputs": [
	{
	 "name": "stdout",
	 "output_type": "stream",
	 "text": [
	  "/mnt/HDD/home/aditya/DatasetPipeline/dataset\n"
	 ]
	}
   ],
   "source": [
	"from matplotlib import pyplot as plt \n",
	"import binascii\n",
	"import cv2\n",
	"import os\n",
	"import sys\n",
	"from pathlib import Path\n",
	"\n",
	"from dataset_helper import dataset_iterators"
   ]
  },
  {
   "cell_type": "code",
   "execution_count": 2,
   "id": "59379d8e",
   "metadata": {},
   "outputs": [
	{
	 "name": "stdout",
	 "output_type": "stream",
	 "text": [
	  "Init path: dataset/panda_logs/PANDA_2022-07-21_11:54:32.114482.csv\n"
	 ]
	},
	{
	 "data": {
	  "text/plain": [
	   "----------------------------------------------------\n",
	   "PandaDatasetIterator('dataset/panda_logs/PANDA_2022-07-21_11:54:32.114482.csv')\n",
	   "----------------------------------------------------\n",
	   "self.fps:		\t386.05050661875094\n",
	   "self.frame_count:\t569302\n",
	   "self.start_time_csv:\t2022-07-21 11:54:32.120992\n",
	   "self.end_time_csv:\t2022-07-21 12:19:06.803683\n",
	   "self.duration:	\t0:24:34.682691\n",
	   "----------------------------------------------------"
	  ]
	 },
	 "execution_count": 2,
	 "metadata": {},
	 "output_type": "execute_result"
	}
   ],
   "source": [
	"panda_path = os.path.join(\"dataset/panda_logs/PANDA_2022-07-21_11:54:32.114482.csv\")\n",
	"panda_iter = dataset_iterators.PandaDatasetIterator(panda_path)\n",
	"panda_iter"
   ]
  },
  {
   "cell_type": "code",
   "execution_count": 3,
   "id": "ffd9ecea",
   "metadata": {},
   "outputs": [
	{
	 "data": {
	  "text/plain": [
	   "timestamp					1658385407.574205\n",
	   "356		  (55877, \"b'0000402d8b064f2c'\", 0)\n",
	   "476				  (51136, \"b'02080e33'\", 0)\n",
	   "208			(53286, \"b'08a08a08a08d3d'\", 0)\n",
	   "398					(53142, \"b'00041c'\", 0)\n",
	   "57					   (53218, \"b'0039'\", 0)\n",
	   "310		  (55393, \"b'100000140600003f'\", 0)\n",
	   "314		  (55514, \"b'0019800000000035'\", 0)\n",
	   "319		  (55636, \"b'005400a800320032'\", 0)\n",
	   "344		  (55758, \"b'0605000006059137'\", 0)\n",
	   "380		  (55995, \"b'000008138000003d'\", 0)\n",
	   "660		  (51220, \"b'00164002470c0023'\", 0)\n",
	   "420		  (48782, \"b'0000000000000027'\", 0)\n",
	   "432			(48911, \"b'0000000000002a'\", 0)\n",
	   "464		  (49032, \"b'0c4217c830a8623c'\", 0)\n",
	   "773					   (8346, \"b'001f'\", 0)\n",
	   "884			(11372, \"b'00000000000037'\", 0)\n",
	   "800					(51338, \"b'000030'\", 0)\n",
	   "804		  (51415, \"b'7f5411780000003c'\", 0)\n",
	   "983		   (1419, \"b'b00000000000007f'\", 0)\n",
	   "1029		 (42630, \"b'000000000000001e'\", 0)\n",
	   "1036		 (51535, \"b'0000000004000013'\", 0)\n",
	   "1108			 (51663, \"b'64dd02753015'\", 0)\n",
	   "1729					   (51762, \"b'05'\", 0)\n",
	   "Name: 284651, dtype: object"
	  ]
	 },
	 "execution_count": 3,
	 "metadata": {},
	 "output_type": "execute_result"
	}
   ],
   "source": [
	"frame_id = panda_iter.frame_count // 2\n",
	"panda_iter[frame_id]"
   ]
  },
  {
   "cell_type": "code",
   "execution_count": 4,
   "id": "1ffc3f14",
   "metadata": {},
   "outputs": [
	{
	 "name": "stdout",
	 "output_type": "stream",
	 "text": [
	  "Init path: dataset/android/1658384924059\n"
	 ]
	},
	{
	 "data": {
	  "text/plain": [
	   "----------------------------------------------------\n",
	   "AndroidDatasetIterator('dataset/android/1658384924059')\n",
	   "----------------------------------------------------\n",
	   "self.fps:		\t29.963871487170508\n",
	   "self.frame_count:\t36461\n",
	   "self.start_time_csv:\t2022-07-21 11:58:45.827000\n",
	   "self.end_time_csv:\t2022-07-21 12:19:03.603000\n",
	   "self.expected_duration:\t0:20:17.776000\n",
	   "self.expected_fps:\t29.940645898753136\n",
	   "self.csv_fps:		\t19.942091156337455\n",
	   "----------------------------------------------------"
	  ]
	 },
	 "execution_count": 4,
	 "metadata": {},
	 "output_type": "execute_result"
	}
   ],
   "source": [
	"phone_iter = dataset_iterators.AndroidDatasetIterator('dataset/android/1658384924059')\n",
	"phone_iter"
   ]
  },
  {
   "cell_type": "code",
   "execution_count": 5,
   "id": "67e3838c",
   "metadata": {},
   "outputs": [
	{
	 "data": {
	  "text/plain": [
	   "----------------------------------------------------\n",
	   "MergedDatasetIterator\n",
	   "----------------------------------------------------\n",
	   "----------------------------------------------------"
	  ]
	 },
	 "execution_count": 5,
	 "metadata": {},
	 "output_type": "execute_result"
	}
   ],
   "source": [
	"dataset_iterators.MergedDatasetIterator(panda_iter=panda_iter, phone_iter=phone_iter)"
   ]
  },
  {
   "cell_type": "code",
   "execution_count": null,
   "id": "54590075",
   "metadata": {},
   "outputs": [],
   "source": []
  }
 ],
 "metadata": {
  "kernelspec": {
   "display_name": "Python 3.9.5 64-bit",
   "language": "python",
   "name": "python3"
  },
  "language_info": {
   "codemirror_mode": {
	"name": "ipython",
	"version": 3
   },
   "file_extension": ".py",
   "mimetype": "text/x-python",
   "name": "python",
   "nbconvert_exporter": "python",
   "pygments_lexer": "ipython3",
   "version": "3.9.5"
  },
  "vscode": {
   "interpreter": {
	"hash": "e7370f93d1d0cde622a1f8e1c04877d8463912d04d973331ad4851f04de6915a"
   }
  }
 },
 "nbformat": 4,
 "nbformat_minor": 5
}
