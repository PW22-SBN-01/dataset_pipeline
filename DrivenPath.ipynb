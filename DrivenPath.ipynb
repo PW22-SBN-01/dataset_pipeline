{
 "cells": [
  {
   "cell_type": "markdown",
   "id": "aca4a704",
   "metadata": {},
   "source": [
    "# Driven Path Rendering\n",
    "\n",
    "For a given frame at some time t, using GPS and IMU data from subsequent frames render the path that the vehicle is going to drive through on that frame.\n",
    "\n",
    "Refrence Video: [AMZ Driverless](https://www.youtube.com/watch?v=aCDPwZZm9C4&ab_channel=AMZFormulaStudent)\n"
   ]
  },
  {
   "cell_type": "code",
   "execution_count": 1,
   "id": "07df21c4",
   "metadata": {},
   "outputs": [
    {
     "name": "stdout",
     "output_type": "stream",
     "text": [
      "/mnt/HDD/home/aditya/DatasetPipeline/dataset\n"
     ]
    }
   ],
   "source": [
    "from matplotlib import pyplot as plt \n",
    "import binascii\n",
    "import cv2\n",
    "import os\n",
    "import sys\n",
    "from pathlib import Path\n",
    "\n",
    "from dataset_helper import dataset_iterators"
   ]
  },
  {
   "cell_type": "code",
   "execution_count": 2,
   "id": "59379d8e",
   "metadata": {},
   "outputs": [
    {
     "name": "stdout",
     "output_type": "stream",
     "text": [
      "Init path: dataset/panda_logs/PANDA_2022-05-31_10:25:56.624274.csv\n"
     ]
    },
    {
     "data": {
      "text/plain": [
       "----------------------------------------------------\n",
       "PandaDatasetIterator('dataset/panda_logs/PANDA_2022-05-31_10:25:56.624274.csv')\n",
       "----------------------------------------------------\n",
       "self.fps:        \t386.07107569895743\n",
       "self.frame_count:\t343230\n",
       "self.start_time_csv:\t2022-05-31 10:25:56.630635\n",
       "self.end_time_csv:\t2022-05-31 10:40:45.663825\n",
       "self.duration:    \t0:14:49.033190\n",
       "----------------------------------------------------"
      ]
     },
     "execution_count": 2,
     "metadata": {},
     "output_type": "execute_result"
    }
   ],
   "source": [
    "panda_path = os.path.join(\"dataset/panda_logs/PANDA_2022-05-31_10:25:56.624274.csv\")\n",
    "panda_iter = dataset_iterators.PandaDatasetIterator(panda_path)\n",
    "panda_iter"
   ]
  },
  {
   "cell_type": "code",
   "execution_count": 3,
   "id": "ffd9ecea",
   "metadata": {},
   "outputs": [
    {
     "data": {
      "text/plain": [
       "timestamp                    1653973408.964918\n",
       "310           (2631, \"b'1200000b0000002e'\", 0)\n",
       "314           (2752, \"b'0000800000000020'\", 0)\n",
       "319           (2876, \"b'ffa4004dffc40028'\", 0)\n",
       "344           (2996, \"b'0db900000db90026'\", 0)\n",
       "380           (3115, \"b'0000069000000023'\", 0)\n",
       "208             (4266, \"b'13a13b13c13e1b'\", 0)\n",
       "476                   (3238, \"b'0206903a'\", 0)\n",
       "356           (4400, \"b'0000402d8e0e740b'\", 0)\n",
       "660          (54995, \"b'00164002436a0005'\", 0)\n",
       "398                     (4736, \"b'00040d'\", 0)\n",
       "57                       (65376, \"b'001b'\", 0)\n",
       "420          (65518, \"b'0000000000000036'\", 0)\n",
       "432              (111, \"b'00000000000039'\", 0)\n",
       "464            (231, \"b'1b5a36d06e28dbc7'\", 0)\n",
       "800                     (3321, \"b'000030'\", 0)\n",
       "804           (3398, \"b'7b4d0c300000003a'\", 0)\n",
       "773                      (60460, \"b'002e'\", 0)\n",
       "884            (64987, \"b'0000000000000a'\", 0)\n",
       "983          (19069, \"b'b000000000000051'\", 0)\n",
       "1029         (65137, \"b'000000000000002d'\", 0)\n",
       "1036          (3516, \"b'0000000004000013'\", 0)\n",
       "1108              (3644, \"b'64dd02753015'\", 0)\n",
       "1729                        (3743, \"b'05'\", 0)\n",
       "Name: 171615, dtype: object"
      ]
     },
     "execution_count": 3,
     "metadata": {},
     "output_type": "execute_result"
    }
   ],
   "source": [
    "frame_id = panda_iter.frame_count // 2\n",
    "panda_iter[frame_id]"
   ]
  },
  {
   "cell_type": "code",
   "execution_count": null,
   "id": "1ffc3f14",
   "metadata": {},
   "outputs": [],
   "source": []
  }
 ],
 "metadata": {
  "kernelspec": {
   "display_name": "Python 3 (ipykernel)",
   "language": "python",
   "name": "python3"
  },
  "language_info": {
   "codemirror_mode": {
    "name": "ipython",
    "version": 3
   },
   "file_extension": ".py",
   "mimetype": "text/x-python",
   "name": "python",
   "nbconvert_exporter": "python",
   "pygments_lexer": "ipython3",
   "version": "3.9.5"
  }
 },
 "nbformat": 4,
 "nbformat_minor": 5
}
