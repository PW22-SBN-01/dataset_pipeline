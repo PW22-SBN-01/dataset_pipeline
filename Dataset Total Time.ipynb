{
 "cells": [
  {
   "cell_type": "code",
   "execution_count": 4,
   "id": "2b894dda",
   "metadata": {},
   "outputs": [],
   "source": [
    "from matplotlib import pyplot as plt \n",
    "import binascii\n",
    "import cv2\n",
    "import os\n",
    "import sys\n",
    "from pathlib import Path\n",
    "\n",
    "from dataset_helper import dataset_iterators\n",
    "from dataset_helper.dataset_constants import DATASET_LIST"
   ]
  },
  {
   "cell_type": "code",
   "execution_count": 5,
   "id": "5abc1338",
   "metadata": {},
   "outputs": [
    {
     "name": "stdout",
     "output_type": "stream",
     "text": [
      "Init path: /home/aditya/Datasets/dataset/android/calibration\n"
     ]
    },
    {
     "data": {
      "text/plain": [
       "----------------------------------------------------\n",
       "AndroidDatasetIterator('/home/aditya/Datasets/dataset/android/calibration')\n",
       "----------------------------------------------------\n",
       "self.fps:\t\t\t26.647270882817207\n",
       "self.frame_count:\t2475\n",
       "self.start_time_csv:\t2022-06-06 08:57:15.961000\n",
       "self.end_time_csv:\t2022-06-06 08:58:50.167000\n",
       "self.expected_duration:\t0:01:34.206000\n",
       "self.expected_fps:\t26.27221196102159\n",
       "self.csv_fps:\t\t\t9.967517992484554\n",
       "----------------------------------------------------"
      ]
     },
     "execution_count": 5,
     "metadata": {},
     "output_type": "execute_result"
    }
   ],
   "source": [
    "phone_iter = dataset_iterators.AndroidDatasetIterator()\n",
    "phone_iter"
   ]
  },
  {
   "cell_type": "code",
   "execution_count": 13,
   "id": "0317ce32",
   "metadata": {},
   "outputs": [
    {
     "name": "stdout",
     "output_type": "stream",
     "text": [
      "Init path: /home/aditya/Datasets/dataset/android/1652937970859\n",
      "/home/aditya/Datasets/dataset/android/1652937970859 \t->\t 392.16625555555555\n",
      "Init path: /home/aditya/Datasets/dataset/android/1653972957447\n",
      "/home/aditya/Datasets/dataset/android/1653972957447 \t->\t 882.5531111111111\n",
      "Init path: /home/aditya/Datasets/dataset/android/1654005945981\n",
      "/home/aditya/Datasets/dataset/android/1654005945981 \t->\t 79.1486\n",
      "Init path: /home/aditya/Datasets/dataset/android/1654006195191\n",
      "/home/aditya/Datasets/dataset/android/1654006195191 \t->\t 1097.9952555555556\n",
      "Init path: /home/aditya/Datasets/dataset/android/1654007317545\n",
      "/home/aditya/Datasets/dataset/android/1654007317545 \t->\t 920.6449111111111\n",
      "Init path: /home/aditya/Datasets/dataset/android/1654493684259\n",
      "/home/aditya/Datasets/dataset/android/1654493684259 \t->\t 981.6245222222223\n",
      "Init path: /home/aditya/Datasets/dataset/android/1654507149598\n",
      "/home/aditya/Datasets/dataset/android/1654507149598 \t->\t 1019.3865333333333\n",
      "Init path: /home/aditya/Datasets/dataset/android/1658384707877\n",
      "/home/aditya/Datasets/dataset/android/1658384707877 \t->\t 178.7791111111111\n",
      "Init path: /home/aditya/Datasets/dataset/android/1658384924059\n",
      "/home/aditya/Datasets/dataset/android/1658384924059 \t->\t 1216.8320777777778\n",
      "Init path: /home/aditya/Datasets/dataset/android/calibration\n",
      "/home/aditya/Datasets/dataset/android/calibration \t->\t 92.88005555555556\n",
      "total_time (mins) 114.36684055555556\n",
      "total_frames  165997\n"
     ]
    }
   ],
   "source": [
    "total_time = 0.0\n",
    "total_frames = 0\n",
    "for android_dataset_path in DATASET_LIST:\n",
    "    phone_iter = dataset_iterators.AndroidDatasetIterator(\n",
    "        folder_path=android_dataset_path\n",
    "    )\n",
    "    total_time += phone_iter.duration\n",
    "    total_frames += len(phone_iter)\n",
    "    print(android_dataset_path, '\\t->\\t', phone_iter.duration)\n",
    "    \n",
    "print(\"total_time (mins)\", total_time / 60.0)\n",
    "print(\"total_frames \", total_frames)"
   ]
  },
  {
   "cell_type": "code",
   "execution_count": 17,
   "id": "f1c5bd13",
   "metadata": {},
   "outputs": [
    {
     "data": {
      "text/plain": [
       "3.8425231481481483"
      ]
     },
     "execution_count": 17,
     "metadata": {},
     "output_type": "execute_result"
    }
   ],
   "source": [
    "60 * 165997 / 3600 / 24 / 30"
   ]
  },
  {
   "cell_type": "code",
   "execution_count": null,
   "id": "2a414a5e",
   "metadata": {},
   "outputs": [],
   "source": []
  }
 ],
 "metadata": {
  "kernelspec": {
   "display_name": "Python 3 (ipykernel)",
   "language": "python",
   "name": "python3"
  },
  "language_info": {
   "codemirror_mode": {
    "name": "ipython",
    "version": 3
   },
   "file_extension": ".py",
   "mimetype": "text/x-python",
   "name": "python",
   "nbconvert_exporter": "python",
   "pygments_lexer": "ipython3",
   "version": "3.10.8"
  }
 },
 "nbformat": 4,
 "nbformat_minor": 5
}
